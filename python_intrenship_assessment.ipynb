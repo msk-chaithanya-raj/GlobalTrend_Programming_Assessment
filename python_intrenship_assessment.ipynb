{
  "nbformat": 4,
  "nbformat_minor": 0,
  "metadata": {
    "colab": {
      "provenance": [],
      "authorship_tag": "ABX9TyMeg6PNIPs4SAC31NquHMkE",
      "include_colab_link": true
    },
    "kernelspec": {
      "name": "python3",
      "display_name": "Python 3"
    },
    "language_info": {
      "name": "python"
    }
  },
  "cells": [
    {
      "cell_type": "markdown",
      "metadata": {
        "id": "view-in-github",
        "colab_type": "text"
      },
      "source": [
        "<a href=\"https://colab.research.google.com/github/msk-chaithanya-raj/GlobalTrend_Programming_Assessment/blob/main/python_intrenship_assessment.ipynb\" target=\"_parent\"><img src=\"https://colab.research.google.com/assets/colab-badge.svg\" alt=\"Open In Colab\"/></a>"
      ]
    },
    {
      "cell_type": "code",
      "execution_count": null,
      "metadata": {
        "colab": {
          "base_uri": "https://localhost:8080/"
        },
        "id": "WQfBFTdLA414",
        "outputId": "8f061344-5a71-4e29-d1dc-e37fb51a6c3e"
      },
      "outputs": [
        {
          "name": "stdout",
          "output_type": "stream",
          "text": [
            "\n",
            "MaxHeap Operations:\n",
            "1. Insert\n",
            "2. Delete\n",
            "3. Get Max\n",
            "4. Exit\n",
            "Choose an operation: 1\n",
            "Enter value to insert: 10\n",
            "Heap: [10]\n",
            "\n",
            "MaxHeap Operations:\n",
            "1. Insert\n",
            "2. Delete\n",
            "3. Get Max\n",
            "4. Exit\n",
            "Choose an operation: 1\n",
            "Enter value to insert: 20\n",
            "Heap: [20, 10]\n",
            "\n",
            "MaxHeap Operations:\n",
            "1. Insert\n",
            "2. Delete\n",
            "3. Get Max\n",
            "4. Exit\n",
            "Choose an operation: 1\n",
            "Enter value to insert: 9\n",
            "Heap: [20, 10, 9]\n",
            "\n",
            "MaxHeap Operations:\n",
            "1. Insert\n",
            "2. Delete\n",
            "3. Get Max\n",
            "4. Exit\n",
            "Choose an operation: 2\n",
            "Enter value to delete: 9\n",
            "Heap: [20, 10]\n",
            "\n",
            "MaxHeap Operations:\n",
            "1. Insert\n",
            "2. Delete\n",
            "3. Get Max\n",
            "4. Exit\n",
            "Choose an operation: 3\n",
            "Max Value: 20\n",
            "\n",
            "MaxHeap Operations:\n",
            "1. Insert\n",
            "2. Delete\n",
            "3. Get Max\n",
            "4. Exit\n",
            "Choose an operation: 4\n"
          ]
        }
      ],
      "source": [
        "class MaxHeap:\n",
        "    def __init__(self):\n",
        "        self.heap = []\n",
        "\n",
        "    def insert(self, val):\n",
        "        self.heap.append(val)\n",
        "        self._heapify_up(len(self.heap) - 1)\n",
        "\n",
        "    def delete(self, val):\n",
        "        try:\n",
        "            index = self.heap.index(val)\n",
        "            self.heap[index] = self.heap[-1]\n",
        "            self.heap.pop()\n",
        "            self._heapify_down(index)\n",
        "        except ValueError:\n",
        "            pass  # Value not in heap\n",
        "\n",
        "    def get_max(self):\n",
        "        if self.heap:\n",
        "            return self.heap[0]\n",
        "        return None\n",
        "\n",
        "    def _heapify_up(self, index):\n",
        "        parent_index = (index - 1) // 2\n",
        "        if parent_index >= 0 and self.heap[index] > self.heap[parent_index]:\n",
        "            self.heap[index], self.heap[parent_index] = self.heap[parent_index], self.heap[index]\n",
        "            self._heapify_up(parent_index)\n",
        "\n",
        "    def _heapify_down(self, index):\n",
        "        largest = index\n",
        "        left_child = 2 * index + 1\n",
        "        right_child = 2 * index + 2\n",
        "\n",
        "        if left_child < len(self.heap) and self.heap[left_child] > self.heap[largest]:\n",
        "            largest = left_child\n",
        "        if right_child < len(self.heap) and self.heap[right_child] > self.heap[largest]:\n",
        "            largest = right_child\n",
        "\n",
        "        if largest != index:\n",
        "            self.heap[index], self.heap[largest] = self.heap[largest], self.heap[index]\n",
        "            self._heapify_down(largest)\n",
        "def max_heap_operations():\n",
        "    heap = MaxHeap()\n",
        "    while True:\n",
        "        print(\"\\nMaxHeap Operations:\")\n",
        "        print(\"1. Insert\")\n",
        "        print(\"2. Delete\")\n",
        "        print(\"3. Get Max\")\n",
        "        print(\"4. Exit\")\n",
        "        choice = input(\"Choose an operation: \")\n",
        "        if choice == '1':\n",
        "            val = int(input(\"Enter value to insert: \"))\n",
        "            heap.insert(val)\n",
        "            print(f\"Heap: {heap.heap}\")\n",
        "        elif choice == '2':\n",
        "            val = int(input(\"Enter value to delete: \"))\n",
        "            heap.delete(val)\n",
        "            print(f\"Heap: {heap.heap}\")\n",
        "        elif choice == '3':\n",
        "            print(f\"Max Value: {heap.get_max()}\")\n",
        "        elif choice == '4':\n",
        "            break\n",
        "        else:\n",
        "            print(\"Invalid choice, please try again.\")\n",
        "max_heap_operations()"
      ]
    },
    {
      "cell_type": "code",
      "source": [
        "import requests\n",
        "from time import sleep\n",
        "\n",
        "def download_content(urls):\n",
        "    contents = []\n",
        "    for url in urls:\n",
        "        retries = 3\n",
        "        while retries > 0:\n",
        "            try:\n",
        "                response = requests.get(url)\n",
        "                response.raise_for_status()  # Raise HTTPError for bad responses\n",
        "                contents.append(response.content)\n",
        "                break\n",
        "            except requests.exceptions.RequestException as e:\n",
        "                print(f\"Error: {e}\")\n",
        "                retries -= 1\n",
        "                sleep(1)  # Wait before retrying\n",
        "        else:\n",
        "            contents.append(None)\n",
        "    return contents\n",
        "\n",
        "def download_content_operations():\n",
        "    urls = input(\"Enter URLs (comma-separated): \").split(',')\n",
        "    contents = download_content(urls)\n",
        "    for i, content in enumerate(contents):\n",
        "        print(f\"Content of URL {i+1}: {'Downloaded' if content else 'Failed to download'}\")\n",
        "\n",
        "download_content_operations()"
      ],
      "metadata": {
        "colab": {
          "base_uri": "https://localhost:8080/"
        },
        "id": "nT27ZscmDF_s",
        "outputId": "9b92bcc6-215e-4f30-ad50-9fb2f936b170"
      },
      "execution_count": null,
      "outputs": [
        {
          "output_type": "stream",
          "name": "stdout",
          "text": [
            "Enter URLs (comma-separated): https://wiki.python.org/moin/BeginnersGuide,https://devguide.python.org/getting-started/,https://errorhandling.raiseError\n",
            "Error: HTTPSConnectionPool(host='errorhandling.raiseerror', port=443): Max retries exceeded with url: / (Caused by NameResolutionError(\"<urllib3.connection.HTTPSConnection object at 0x7e5a903c8790>: Failed to resolve 'errorhandling.raiseerror' ([Errno -2] Name or service not known)\"))\n",
            "Error: HTTPSConnectionPool(host='errorhandling.raiseerror', port=443): Max retries exceeded with url: / (Caused by NameResolutionError(\"<urllib3.connection.HTTPSConnection object at 0x7e5a903c8e80>: Failed to resolve 'errorhandling.raiseerror' ([Errno -2] Name or service not known)\"))\n",
            "Error: HTTPSConnectionPool(host='errorhandling.raiseerror', port=443): Max retries exceeded with url: / (Caused by NameResolutionError(\"<urllib3.connection.HTTPSConnection object at 0x7e5a903cb190>: Failed to resolve 'errorhandling.raiseerror' ([Errno -2] Name or service not known)\"))\n",
            "Content of URL 1: Downloaded\n",
            "Content of URL 2: Downloaded\n",
            "Content of URL 3: Failed to download\n"
          ]
        }
      ]
    },
    {
      "cell_type": "code",
      "source": [
        "def linear_regression_operations():\n",
        "    # Using the same code as provided\n",
        "    from sklearn.model_selection import train_test_split\n",
        "    from sklearn.linear_model import LinearRegression\n",
        "    from sklearn.metrics import mean_squared_error\n",
        "    import numpy as np\n",
        "\n",
        "    np.random.seed(0)\n",
        "\n",
        "    X = 2 * np.random.rand(100, 1)\n",
        "    y = 4 + 3 * X + np.random.randn(100, 1)\n",
        "\n",
        "    X_train, X_test, y_train, y_test = train_test_split(X, y, test_size=0.2, random_state=0)\n",
        "\n",
        "    model = LinearRegression()\n",
        "    model.fit(X_train, y_train)\n",
        "\n",
        "    y_pred = model.predict(X_test)\n",
        "    mse = mean_squared_error(y_test, y_pred)\n",
        "\n",
        "    print(f\"Mean Squared Error: {mse}\")\n",
        "linear_regression_operations()\n"
      ],
      "metadata": {
        "colab": {
          "base_uri": "https://localhost:8080/"
        },
        "id": "tGevaUTXFggu",
        "outputId": "53e62abf-087d-4ada-99be-644d04f61600"
      },
      "execution_count": null,
      "outputs": [
        {
          "output_type": "stream",
          "name": "stdout",
          "text": [
            "Mean Squared Error: 1.0434333815695171\n"
          ]
        }
      ]
    },
    {
      "cell_type": "markdown",
      "source": [],
      "metadata": {
        "id": "Oa-Dj-kNK8Tg"
      }
    },
    {
      "cell_type": "code",
      "source": [
        "import pandas as pd\n",
        "from sklearn.preprocessing import StandardScaler, OneHotEncoder\n",
        "import numpy as np\n",
        "\n",
        "def clean_and_preprocess(df):\n",
        "    df = df.dropna(subset=['A', 'B'])\n",
        "\n",
        "    numeric_cols = df.select_dtypes(include=['float64', 'int64']).columns\n",
        "    scaler = StandardScaler()\n",
        "    df.loc[:, numeric_cols] = scaler.fit_transform(df[numeric_cols])\n",
        "\n",
        "    categorical_cols = df.select_dtypes(include=['object']).columns\n",
        "    encoder = OneHotEncoder(sparse_output=False)\n",
        "    encoded_cols = encoder.fit_transform(df[categorical_cols])\n",
        "    encoded_df = pd.DataFrame(encoded_cols, columns=encoder.get_feature_names_out(categorical_cols))\n",
        "\n",
        "    df = df.drop(categorical_cols, axis=1)\n",
        "    df = pd.concat([df.reset_index(drop=True), encoded_df], axis=1)\n",
        "\n",
        "    return df\n",
        "\n",
        "# Example DataFrame\n",
        "data = {'A': [1, 2, np.nan, 4],\n",
        "        'B': [5, np.nan, np.nan, 8],\n",
        "        'C': ['cat', 'dog', 'cat', 'dog']}\n",
        "df = pd.DataFrame(data)\n",
        "print(\"Original DataFrame:\")\n",
        "print(df)\n",
        "\n",
        "cleaned_df = clean_and_preprocess(df)\n",
        "print(\"Cleaned and Preprocessed DataFrame:\")\n",
        "print(cleaned_df)\n"
      ],
      "metadata": {
        "colab": {
          "base_uri": "https://localhost:8080/"
        },
        "id": "tzaFFJhKGvIH",
        "outputId": "479588ea-811c-4a5e-91c7-0cdf1a3cc3bb"
      },
      "execution_count": null,
      "outputs": [
        {
          "output_type": "stream",
          "name": "stdout",
          "text": [
            "Original DataFrame:\n",
            "     A    B    C\n",
            "0  1.0  5.0  cat\n",
            "1  2.0  NaN  dog\n",
            "2  NaN  NaN  cat\n",
            "3  4.0  8.0  dog\n",
            "Cleaned and Preprocessed DataFrame:\n",
            "     A    B  C_cat  C_dog\n",
            "0 -1.0 -1.0    1.0    0.0\n",
            "1  1.0  1.0    0.0    1.0\n"
          ]
        }
      ]
    },
    {
      "cell_type": "code",
      "source": [
        "def divide_numbers(a, b):\n",
        "    try:\n",
        "        result = a / b\n",
        "    except ZeroDivisionError:\n",
        "        return \"Error: Division by zero is not allowed.\"\n",
        "    return result\n",
        "\n",
        "\n",
        "def divide_numbers_operations():\n",
        "    a = float(input(\"Enter the numerator: \"))\n",
        "    b = float(input(\"Enter the denominator: \"))\n",
        "    result = divide_numbers(a, b)\n",
        "    print(f\"Result: {result}\")\n",
        "divide_numbers_operations()\n"
      ],
      "metadata": {
        "colab": {
          "base_uri": "https://localhost:8080/"
        },
        "id": "Rr01JcgwRj_X",
        "outputId": "ac1b3995-90ec-404d-e8e3-42af12a86416"
      },
      "execution_count": null,
      "outputs": [
        {
          "output_type": "stream",
          "name": "stdout",
          "text": [
            "Enter the numerator: 100\n",
            "Enter the denominator: 0\n",
            "Result: Error: Division by zero is not allowed.\n"
          ]
        }
      ]
    },
    {
      "cell_type": "code",
      "source": [],
      "metadata": {
        "id": "Ec1GTsW8Tw1S"
      },
      "execution_count": null,
      "outputs": []
    },
    {
      "cell_type": "code",
      "source": [
        "def arithmetic_operation(a, b, operator):\n",
        "    if operator == '+':\n",
        "        return a + b\n",
        "    elif operator == '-':\n",
        "        return a - b\n",
        "    elif operator == '*':\n",
        "        return a * b\n",
        "    elif operator == '/':\n",
        "        try:\n",
        "            return a / b\n",
        "        except ZeroDivisionError:\n",
        "            return \"Error: Division by zero is not allowed.\"\n",
        "    else:\n",
        "        return \"Error: Invalid operator.\"\n",
        "def arithmetic_operations():\n",
        "    a = float(input(\"Enter the first number: \"))\n",
        "    b = float(input(\"Enter the second number: \"))\n",
        "    operator = input(\"Enter the operator (+, -, *, /): \")\n",
        "    result = arithmetic_operation(a, b, operator)\n",
        "    print(f\"Result: {result}\")\n",
        "\n",
        "arithmetic_operations()"
      ],
      "metadata": {
        "colab": {
          "base_uri": "https://localhost:8080/"
        },
        "id": "n9GhAyShTbtL",
        "outputId": "568f9d36-819c-466a-a832-6cde461f11c2"
      },
      "execution_count": null,
      "outputs": [
        {
          "output_type": "stream",
          "name": "stdout",
          "text": [
            "Enter the first number: 5\n",
            "Enter the second number: 2\n",
            "Enter the operator (+, -, *, /): +\n",
            "Result: 7.0\n"
          ]
        }
      ]
    },
    {
      "cell_type": "code",
      "source": [
        "import random\n",
        "import string\n",
        "\n",
        "def generate_random_password(length=12):\n",
        "    characters = string.ascii_letters + string.digits + string.punctuation\n",
        "    password = ''.join(random.choice(characters) for i in range(length))\n",
        "    return password\n",
        "def generate_password_operations():\n",
        "    length = int(input(\"Enter the length of the password: \"))\n",
        "    password = generate_random_password(length)\n",
        "    print(f\"Generated Password: {password}\")\n",
        "generate_password_operations()"
      ],
      "metadata": {
        "colab": {
          "base_uri": "https://localhost:8080/"
        },
        "id": "mTmWZVykTcj6",
        "outputId": "dc0696b3-cbbd-4d6f-c026-c93911bdd8b0"
      },
      "execution_count": null,
      "outputs": [
        {
          "output_type": "stream",
          "name": "stdout",
          "text": [
            "Enter the length of the password: 20\n",
            "Generated Password: $UlKsg_Q|Qz}nggy<$z\"\n"
          ]
        }
      ]
    },
    {
      "cell_type": "code",
      "source": [
        "def transpose_matrix(matrix):\n",
        "    return [list(row) for row in zip(*matrix)]\n",
        "def transpose_matrix_operations():\n",
        "    matrix = []\n",
        "    rows = int(input(\"Enter number of rows: \"))\n",
        "    cols = int(input(\"Enter number of columns: \"))\n",
        "    for i in range(rows):\n",
        "        row = list(map(int, input(f\"Enter row {i+1} values (space-separated): \").split()))\n",
        "        matrix.append(row)\n",
        "    transposed = transpose_matrix(matrix)\n",
        "    print(\"Transposed Matrix:\")\n",
        "    for row in transposed:\n",
        "        print(row)\n",
        "transpose_matrix_operations()"
      ],
      "metadata": {
        "colab": {
          "base_uri": "https://localhost:8080/"
        },
        "id": "xg1BWOZ7Tftu",
        "outputId": "86237e1f-111c-479e-cdf5-bfbeee112c6b"
      },
      "execution_count": null,
      "outputs": [
        {
          "output_type": "stream",
          "name": "stdout",
          "text": [
            "Enter number of rows: 2\n",
            "Enter number of columns: 2\n",
            "Enter row 1 values (space-separated): 1 0\n",
            "Enter row 2 values (space-separated): 0 1\n",
            "Transposed Matrix:\n",
            "[1, 0]\n",
            "[0, 1]\n"
          ]
        }
      ]
    },
    {
      "cell_type": "code",
      "source": [
        "import time\n",
        "\n",
        "def execution_time_decorator(func):\n",
        "    def wrapper(*args, **kwargs):\n",
        "        start_time = time.time()\n",
        "        result = func(*args, **kwargs)\n",
        "        end_time = time.time()\n",
        "        print(f\"Execution time of {func.__name__}: {end_time - start_time} seconds\")\n",
        "        return result\n",
        "    return wrapper\n",
        "\n",
        "@execution_time_decorator\n",
        "def computationally_expensive_task(n):\n",
        "    total = 0\n",
        "    for i in range(n):\n",
        "        total += i ** 2\n",
        "    return total\n",
        "def execution_time_operations():\n",
        "    n = int(input(\"Enter a number for the computationally expensive task: \"))\n",
        "    result = computationally_expensive_task(n)\n",
        "    print(f\"Result of the task: {result}\")\n",
        "execution_time_operations()"
      ],
      "metadata": {
        "colab": {
          "base_uri": "https://localhost:8080/"
        },
        "id": "nE7vvLoKSN6g",
        "outputId": "431ca359-f99b-43c9-a782-5186b2e9d76b"
      },
      "execution_count": null,
      "outputs": [
        {
          "output_type": "stream",
          "name": "stdout",
          "text": [
            "Enter a number for the computationally expensive task: 1000000\n",
            "Execution time of computationally_expensive_task: 0.5549333095550537 seconds\n",
            "Result of the task: 333332833333500000\n"
          ]
        }
      ]
    },
    {
      "cell_type": "code",
      "source": [
        "def fibonacci(n):\n",
        "    if n <= 0:\n",
        "        return 0\n",
        "    elif n == 1:\n",
        "        return 1\n",
        "    else:\n",
        "        return fibonacci(n - 1) + fibonacci(n - 2)\n",
        "\n",
        "\n",
        "def fibonacci_operations():\n",
        "    n = int(input(\"Enter n to compute the nth Fibonacci number: \"))\n",
        "    print(f\"Fibonacci number at position {n}: {fibonacci(n)}\")\n",
        "\n",
        "fibonacci_operations()"
      ],
      "metadata": {
        "colab": {
          "base_uri": "https://localhost:8080/"
        },
        "id": "9edG0flFQL1a",
        "outputId": "077120aa-a99e-4aea-965a-364bfe45830f"
      },
      "execution_count": null,
      "outputs": [
        {
          "output_type": "stream",
          "name": "stdout",
          "text": [
            "Enter n to compute the nth Fibonacci number: 10\n",
            "Fibonacci number at position 10: 55\n"
          ]
        }
      ]
    }
  ]
}